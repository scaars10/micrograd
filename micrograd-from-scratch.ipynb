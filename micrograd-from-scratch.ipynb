{
 "cells": [
  {
   "cell_type": "code",
   "execution_count": 1,
   "id": "initial_id",
   "metadata": {
    "collapsed": true,
    "ExecuteTime": {
     "end_time": "2023-12-03T07:56:35.974563100Z",
     "start_time": "2023-12-03T07:56:35.635650800Z"
    }
   },
   "outputs": [],
   "source": []
  },
  {
   "cell_type": "code",
   "execution_count": 19,
   "outputs": [],
   "source": [
    "class Value:\n",
    "    def __init__(self, data, _parents = None, _op = None):\n",
    "        self.data = data\n",
    "        self._prev = _parents\n",
    "        self._grad = 0\n",
    "        self._op = _op\n",
    "        self.calculate_gradient = None\n",
    "        \n",
    "    def __repr__(self):\n",
    "        return f\"Value(data={self.data})\"\n",
    "    \n",
    "    def __add__(self, other):\n",
    "        if type(other) is not Value:\n",
    "            return Value(self.data + other, [self], '+')\n",
    "        \n",
    "        def calculate_gradient():\n",
    "            return 1\n",
    "        self.calculate_gradient = calculate_gradient\n",
    "        \n",
    "        return Value(self.data + other.data, [self, other], '+')\n",
    "    \n",
    "    def __radd__(self, other):\n",
    "        return self + other\n",
    "    \n",
    "    def __mul__(self, other):\n",
    "        if type(other) is not Value:\n",
    "            return Value(self.data * other, [self], '*')\n",
    "        return Value(self.data * other.data, [self, other], '*')\n",
    "    \n",
    "    def __rmul__(self, other):\n",
    "        return self * other"
   ],
   "metadata": {
    "collapsed": false,
    "ExecuteTime": {
     "end_time": "2023-12-03T08:13:06.911172500Z",
     "start_time": "2023-12-03T08:13:06.900662600Z"
    }
   },
   "id": "c2c1dfa4d5966598"
  },
  {
   "cell_type": "code",
   "execution_count": 20,
   "outputs": [
    {
     "data": {
      "text/plain": "Value(data=3)"
     },
     "execution_count": 20,
     "metadata": {},
     "output_type": "execute_result"
    }
   ],
   "source": [
    "a = Value(1)\n",
    "b = Value(2)\n",
    "\n",
    "c = 2+a\n",
    "c"
   ],
   "metadata": {
    "collapsed": false,
    "ExecuteTime": {
     "end_time": "2023-12-03T08:13:07.259291900Z",
     "start_time": "2023-12-03T08:13:07.251786100Z"
    }
   },
   "id": "d95fe18020ab8b4"
  },
  {
   "cell_type": "code",
   "execution_count": 16,
   "outputs": [
    {
     "data": {
      "text/plain": "[Value(data=1)]"
     },
     "execution_count": 16,
     "metadata": {},
     "output_type": "execute_result"
    }
   ],
   "source": [
    "c._prev"
   ],
   "metadata": {
    "collapsed": false,
    "ExecuteTime": {
     "end_time": "2023-12-03T08:11:23.021562600Z",
     "start_time": "2023-12-03T08:11:23.003952500Z"
    }
   },
   "id": "1f75285206a8818"
  },
  {
   "cell_type": "code",
   "execution_count": null,
   "outputs": [],
   "source": [],
   "metadata": {
    "collapsed": false
   },
   "id": "fe5ed6bab6eda056"
  }
 ],
 "metadata": {
  "kernelspec": {
   "display_name": "Python 3",
   "language": "python",
   "name": "python3"
  },
  "language_info": {
   "codemirror_mode": {
    "name": "ipython",
    "version": 2
   },
   "file_extension": ".py",
   "mimetype": "text/x-python",
   "name": "python",
   "nbconvert_exporter": "python",
   "pygments_lexer": "ipython2",
   "version": "2.7.6"
  }
 },
 "nbformat": 4,
 "nbformat_minor": 5
}
