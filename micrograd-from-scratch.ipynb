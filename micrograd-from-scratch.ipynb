{
 "cells": [
  {
   "cell_type": "code",
   "execution_count": 1,
   "id": "initial_id",
   "metadata": {
    "collapsed": true,
    "ExecuteTime": {
     "end_time": "2023-12-03T07:56:35.974563100Z",
     "start_time": "2023-12-03T07:56:35.635650800Z"
    }
   },
   "outputs": [],
   "source": []
  },
  {
   "cell_type": "code",
   "execution_count": 30,
   "outputs": [],
   "source": [
    "class Value:\n",
    "    def __init__(self, data, _parents = (), _op = ''):\n",
    "        self.data = data\n",
    "        self._prev = set(_parents)\n",
    "        self.grad = 0\n",
    "        self._op = _op\n",
    "        self.__update_parent_grad__ = lambda:None\n",
    "        \n",
    "    def __repr__(self):\n",
    "        return f\"Value(data={self.data})\"\n",
    "    \n",
    "     \n",
    "    def backprop(self):\n",
    "        self.__update_parent_grad__()\n",
    "        for node in self._prev:\n",
    "            node.backprop()\n",
    "            \n",
    "    def __add__(self, other):\n",
    "        if type(other) is not Value:\n",
    "            other = Value(other)\n",
    "        \n",
    "        output = Value(self.data + other.data, (self, other), '+')\n",
    "        \n",
    "        def __update_parent_grad__():\n",
    "            self.grad += output.grad\n",
    "            other.grad += output.grad\n",
    "            \n",
    "        output.__update_parent_grad__ = __update_parent_grad__\n",
    "        return output\n",
    "        \n",
    "    def __radd__(self, other):\n",
    "        return self + other\n",
    "    \n",
    "    def __mul__(self, other):\n",
    "        if type(other) is not Value:\n",
    "            other = Value(other)\n",
    "        output = Value(self.data * other.data, (self, other), '*')\n",
    "        \n",
    "        def __update_parent_grad__():\n",
    "            self.grad = other.data * output.grad\n",
    "            other.grad = self.data * output.grad\n",
    "        output.__update_parent_grad__ = __update_parent_grad__\n",
    "        return  output\n",
    "    \n",
    "    def __rmul__(self, other):\n",
    "        return self * other"
   ],
   "metadata": {
    "collapsed": false,
    "ExecuteTime": {
     "end_time": "2023-12-03T15:53:45.573964Z",
     "start_time": "2023-12-03T15:53:45.572051Z"
    }
   },
   "id": "c2c1dfa4d5966598"
  },
  {
   "cell_type": "code",
   "execution_count": 59,
   "outputs": [],
   "source": [
    "a = Value(1)\n",
    "b = Value(2)\n",
    "h = 1e-6\n",
    "a_h = a + h\n",
    "c = a+b\n",
    "c_h = a_h+b\n",
    "d = c*a\n",
    "\n",
    "d_h = c_h*a_h"
   ],
   "metadata": {
    "collapsed": false,
    "ExecuteTime": {
     "end_time": "2023-12-03T16:13:59.932336Z",
     "start_time": "2023-12-03T16:13:59.931023Z"
    }
   },
   "id": "d95fe18020ab8b4"
  },
  {
   "cell_type": "code",
   "execution_count": 60,
   "outputs": [],
   "source": [
    "d.grad = 1\n",
    "d.backprop()"
   ],
   "metadata": {
    "collapsed": false,
    "ExecuteTime": {
     "end_time": "2023-12-03T16:14:01.083917Z",
     "start_time": "2023-12-03T16:14:01.079264Z"
    }
   },
   "id": "1f75285206a8818"
  },
  {
   "cell_type": "code",
   "execution_count": 61,
   "outputs": [
    {
     "data": {
      "text/plain": "1"
     },
     "execution_count": 61,
     "metadata": {},
     "output_type": "execute_result"
    }
   ],
   "source": [
    "c.grad"
   ],
   "metadata": {
    "collapsed": false,
    "ExecuteTime": {
     "end_time": "2023-12-03T16:14:01.317736Z",
     "start_time": "2023-12-03T16:14:01.311241Z"
    }
   },
   "id": "fe5ed6bab6eda056"
  },
  {
   "cell_type": "code",
   "execution_count": 62,
   "outputs": [
    {
     "data": {
      "text/plain": "4"
     },
     "execution_count": 62,
     "metadata": {},
     "output_type": "execute_result"
    }
   ],
   "source": [
    "a.grad"
   ],
   "metadata": {
    "collapsed": false,
    "ExecuteTime": {
     "end_time": "2023-12-03T16:14:01.504757Z",
     "start_time": "2023-12-03T16:14:01.500284Z"
    }
   },
   "id": "6d49db2e4d7267f3"
  },
  {
   "cell_type": "code",
   "execution_count": 63,
   "outputs": [
    {
     "data": {
      "text/plain": "1"
     },
     "execution_count": 63,
     "metadata": {},
     "output_type": "execute_result"
    }
   ],
   "source": [
    "b.grad"
   ],
   "metadata": {
    "collapsed": false,
    "ExecuteTime": {
     "end_time": "2023-12-03T16:14:02.056802Z",
     "start_time": "2023-12-03T16:14:02.053182Z"
    }
   },
   "id": "af57b9770b878406"
  },
  {
   "cell_type": "code",
   "execution_count": 65,
   "outputs": [
    {
     "data": {
      "text/plain": "4.000000999759834"
     },
     "execution_count": 65,
     "metadata": {},
     "output_type": "execute_result"
    }
   ],
   "source": [
    "(d_h.data-d.data)/h"
   ],
   "metadata": {
    "collapsed": false,
    "ExecuteTime": {
     "end_time": "2023-12-03T16:14:16.718527Z",
     "start_time": "2023-12-03T16:14:16.713490Z"
    }
   },
   "id": "c1d04e17a7f9ec5"
  },
  {
   "cell_type": "code",
   "execution_count": 58,
   "outputs": [
    {
     "data": {
      "text/plain": "Value(data=3)"
     },
     "execution_count": 58,
     "metadata": {},
     "output_type": "execute_result"
    }
   ],
   "source": [
    "d"
   ],
   "metadata": {
    "collapsed": false,
    "ExecuteTime": {
     "end_time": "2023-12-03T16:13:23.793940Z",
     "start_time": "2023-12-03T16:13:23.789952Z"
    }
   },
   "id": "d971e2c7025e3ed8"
  },
  {
   "cell_type": "code",
   "execution_count": null,
   "outputs": [],
   "source": [],
   "metadata": {
    "collapsed": false
   },
   "id": "a12d59789b02a52d"
  }
 ],
 "metadata": {
  "kernelspec": {
   "display_name": "Python 3",
   "language": "python",
   "name": "python3"
  },
  "language_info": {
   "codemirror_mode": {
    "name": "ipython",
    "version": 2
   },
   "file_extension": ".py",
   "mimetype": "text/x-python",
   "name": "python",
   "nbconvert_exporter": "python",
   "pygments_lexer": "ipython2",
   "version": "2.7.6"
  }
 },
 "nbformat": 4,
 "nbformat_minor": 5
}
