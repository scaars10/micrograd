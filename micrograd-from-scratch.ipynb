{
 "cells": [
  {
   "cell_type": "code",
   "execution_count": 1,
   "id": "initial_id",
   "metadata": {
    "collapsed": true,
    "ExecuteTime": {
     "end_time": "2023-12-03T07:56:35.974563100Z",
     "start_time": "2023-12-03T07:56:35.635650800Z"
    }
   },
   "outputs": [],
   "source": []
  },
  {
   "cell_type": "code",
   "execution_count": 5,
   "outputs": [],
   "source": [
    "import math\n",
    "\n",
    "\n",
    "class Value:\n",
    "    def __init__(self, data, _parents = (), _op = ''):\n",
    "        self.data = data\n",
    "        self._prev = set(_parents)\n",
    "        self.grad = 0\n",
    "        self._op = _op\n",
    "        self.__update_parent_grad__ = lambda:None\n",
    "        \n",
    "    def __repr__(self):\n",
    "        return f\"Value(data={self.data})\"\n",
    "    \n",
    "     \n",
    "    def backprop(self):\n",
    "        self.__update_parent_grad__()\n",
    "        for node in self._prev:\n",
    "            node.backprop()\n",
    "            \n",
    "    def __add__(self, other):\n",
    "        if type(other) is not Value:\n",
    "            other = Value(other)\n",
    "        \n",
    "        output = Value(self.data + other.data, (self, other), '+')\n",
    "        \n",
    "        def __update_parent_grad__():\n",
    "            self.grad += output.grad\n",
    "            other.grad += output.grad\n",
    "            \n",
    "        output.__update_parent_grad__ = __update_parent_grad__\n",
    "        return output\n",
    "        \n",
    "    def __radd__(self, other):\n",
    "        return self + other\n",
    "    \n",
    "    def __mul__(self, other):\n",
    "        if type(other) is not Value:\n",
    "            other = Value(other)\n",
    "        output = Value(self.data * other.data, (self, other), '*')\n",
    "        \n",
    "        def __update_parent_grad__():\n",
    "            self.grad += other.data * output.grad\n",
    "            other.grad += self.data * output.grad\n",
    "        output.__update_parent_grad__ = __update_parent_grad__\n",
    "        return  output\n",
    "    \n",
    "    def __rmul__(self, other):\n",
    "        return self * other\n",
    "    \n",
    "    def __truediv__(self, other):\n",
    "        if type(other) is not Value:\n",
    "            return self/Value(other)\n",
    "        return self * other ** -1 \n",
    "    \n",
    "    def __rtruediv__(self, other):\n",
    "        if type(other) is not Value:\n",
    "            return Value(other)/self\n",
    "        return other.__truediv__(self)\n",
    "    \n",
    "    def __pow__(self, power, modulo=None):\n",
    "        if type(power) is not Value:\n",
    "            return self ** Value(power)\n",
    "        \n",
    "        output = Value(self.data**power.data, (self, power), '**')\n",
    "        def __update_parent_grad__():\n",
    "            self.grad += (power.data * self.data ** (power.data-1))*output.grad\n",
    "            power.grad += ((self.data ** power.data) * math.log(self.data))*output.grad\n",
    "        self.__update_parent_grad__ = __update_parent_grad__\n",
    "        return output\n",
    "        "
   ],
   "metadata": {
    "collapsed": false,
    "ExecuteTime": {
     "end_time": "2023-12-05T19:38:54.487217900Z",
     "start_time": "2023-12-05T19:38:54.448146200Z"
    }
   },
   "id": "c2c1dfa4d5966598"
  },
  {
   "cell_type": "code",
   "execution_count": 9,
   "outputs": [],
   "source": [
    "a = Value(1)\n",
    "b = Value(2)\n",
    "h = 1e-6\n",
    "a_h = a + h\n",
    "c = a+b\n",
    "c_h = a_h+b\n",
    "d = c*a\n",
    "\n",
    "d_h = c_h*a_h"
   ],
   "metadata": {
    "collapsed": false,
    "ExecuteTime": {
     "end_time": "2023-12-05T19:39:14.592835Z",
     "start_time": "2023-12-05T19:39:14.569812800Z"
    }
   },
   "id": "d95fe18020ab8b4"
  },
  {
   "cell_type": "code",
   "execution_count": 60,
   "outputs": [],
   "source": [
    "d.grad = 1\n",
    "d.backprop()"
   ],
   "metadata": {
    "collapsed": false,
    "ExecuteTime": {
     "end_time": "2023-12-03T16:14:01.083917Z",
     "start_time": "2023-12-03T16:14:01.079264Z"
    }
   },
   "id": "1f75285206a8818"
  },
  {
   "cell_type": "code",
   "execution_count": 61,
   "outputs": [
    {
     "data": {
      "text/plain": "1"
     },
     "execution_count": 61,
     "metadata": {},
     "output_type": "execute_result"
    }
   ],
   "source": [
    "c.grad"
   ],
   "metadata": {
    "collapsed": false,
    "ExecuteTime": {
     "end_time": "2023-12-03T16:14:01.317736Z",
     "start_time": "2023-12-03T16:14:01.311241Z"
    }
   },
   "id": "fe5ed6bab6eda056"
  },
  {
   "cell_type": "code",
   "execution_count": 62,
   "outputs": [
    {
     "data": {
      "text/plain": "4"
     },
     "execution_count": 62,
     "metadata": {},
     "output_type": "execute_result"
    }
   ],
   "source": [
    "a.grad"
   ],
   "metadata": {
    "collapsed": false,
    "ExecuteTime": {
     "end_time": "2023-12-03T16:14:01.504757Z",
     "start_time": "2023-12-03T16:14:01.500284Z"
    }
   },
   "id": "6d49db2e4d7267f3"
  },
  {
   "cell_type": "code",
   "execution_count": 63,
   "outputs": [
    {
     "data": {
      "text/plain": "1"
     },
     "execution_count": 63,
     "metadata": {},
     "output_type": "execute_result"
    }
   ],
   "source": [
    "b.grad"
   ],
   "metadata": {
    "collapsed": false,
    "ExecuteTime": {
     "end_time": "2023-12-03T16:14:02.056802Z",
     "start_time": "2023-12-03T16:14:02.053182Z"
    }
   },
   "id": "af57b9770b878406"
  },
  {
   "cell_type": "code",
   "execution_count": 65,
   "outputs": [
    {
     "data": {
      "text/plain": "4.000000999759834"
     },
     "execution_count": 65,
     "metadata": {},
     "output_type": "execute_result"
    }
   ],
   "source": [
    "(d_h.data-d.data)/h"
   ],
   "metadata": {
    "collapsed": false,
    "ExecuteTime": {
     "end_time": "2023-12-03T16:14:16.718527Z",
     "start_time": "2023-12-03T16:14:16.713490Z"
    }
   },
   "id": "c1d04e17a7f9ec5"
  },
  {
   "cell_type": "code",
   "execution_count": 58,
   "outputs": [
    {
     "data": {
      "text/plain": "Value(data=3)"
     },
     "execution_count": 58,
     "metadata": {},
     "output_type": "execute_result"
    }
   ],
   "source": [
    "d"
   ],
   "metadata": {
    "collapsed": false,
    "ExecuteTime": {
     "end_time": "2023-12-03T16:13:23.793940Z",
     "start_time": "2023-12-03T16:13:23.789952Z"
    }
   },
   "id": "d971e2c7025e3ed8"
  },
  {
   "cell_type": "code",
   "execution_count": 63,
   "outputs": [
    {
     "data": {
      "text/plain": "Value(data=5.0)"
     },
     "execution_count": 63,
     "metadata": {},
     "output_type": "execute_result"
    }
   ],
   "source": [
    "a = Value(5)\n",
    "c = a*2\n",
    "b = a*3\n",
    "\n",
    "result = (b + c)/a\n",
    "result.grad = 1\n",
    "result.backprop()\n",
    "result"
   ],
   "metadata": {
    "collapsed": false,
    "ExecuteTime": {
     "end_time": "2023-12-05T20:20:17.362684700Z",
     "start_time": "2023-12-05T20:19:52.209619500Z"
    }
   },
   "id": "a12d59789b02a52d"
  },
  {
   "cell_type": "code",
   "execution_count": 62,
   "outputs": [
    {
     "data": {
      "text/plain": "0.2"
     },
     "execution_count": 62,
     "metadata": {},
     "output_type": "execute_result"
    }
   ],
   "source": [
    "c.grad"
   ],
   "metadata": {
    "collapsed": false,
    "ExecuteTime": {
     "end_time": "2023-12-05T20:19:37.600224100Z",
     "start_time": "2023-12-05T20:19:37.579124400Z"
    }
   },
   "id": "69e5594fbc92b285"
  },
  {
   "cell_type": "code",
   "execution_count": 6,
   "outputs": [],
   "source": [
    "a = Value(3)\n",
    "b = Value(2)\n",
    "c = 1/b\n",
    "c.grad = 1\n",
    "c.backprop()"
   ],
   "metadata": {
    "collapsed": false,
    "ExecuteTime": {
     "end_time": "2023-12-05T19:38:57.498496900Z",
     "start_time": "2023-12-05T19:38:57.494983200Z"
    }
   },
   "id": "767ae97461c03a09"
  },
  {
   "cell_type": "code",
   "execution_count": 58,
   "outputs": [
    {
     "data": {
      "text/plain": "tensor([0.2000], dtype=torch.float64)"
     },
     "execution_count": 58,
     "metadata": {},
     "output_type": "execute_result"
    }
   ],
   "source": [
    "b.grad"
   ],
   "metadata": {
    "collapsed": false,
    "ExecuteTime": {
     "end_time": "2023-12-05T20:19:22.438924900Z",
     "start_time": "2023-12-05T20:19:22.422567800Z"
    }
   },
   "id": "ac4888913b91c17e"
  },
  {
   "cell_type": "code",
   "execution_count": 16,
   "outputs": [
    {
     "data": {
      "text/plain": "-0.25"
     },
     "execution_count": 16,
     "metadata": {},
     "output_type": "execute_result"
    }
   ],
   "source": [
    "b.grad"
   ],
   "metadata": {
    "collapsed": false,
    "ExecuteTime": {
     "end_time": "2023-12-05T19:23:08.683416600Z",
     "start_time": "2023-12-05T19:23:08.667912800Z"
    }
   },
   "id": "bb7ed9057830ff7c"
  },
  {
   "cell_type": "code",
   "execution_count": 17,
   "outputs": [],
   "source": [
    "import torch"
   ],
   "metadata": {
    "collapsed": false,
    "ExecuteTime": {
     "end_time": "2023-12-05T19:53:00.908749900Z",
     "start_time": "2023-12-05T19:52:56.622867700Z"
    }
   },
   "id": "4bae02eb9ae57eb4"
  },
  {
   "cell_type": "code",
   "execution_count": 53,
   "outputs": [],
   "source": [
    "a = torch.Tensor([5]).double()\n",
    "a.requires_grad = True\n",
    "\n",
    "b = a*3\n",
    "c = a*6\n",
    "b.retain_grad()\n",
    "c.retain_grad()\n",
    "result = (c+b)/a\n"
   ],
   "metadata": {
    "collapsed": false,
    "ExecuteTime": {
     "end_time": "2023-12-05T20:02:12.421241800Z",
     "start_time": "2023-12-05T20:02:12.412724900Z"
    }
   },
   "id": "604e95ce76a568b5"
  },
  {
   "cell_type": "code",
   "execution_count": 55,
   "outputs": [],
   "source": [
    "result.backward()"
   ],
   "metadata": {
    "collapsed": false,
    "ExecuteTime": {
     "end_time": "2023-12-05T20:02:14.819836300Z",
     "start_time": "2023-12-05T20:02:14.816322700Z"
    }
   },
   "id": "f28764a8130c88b7"
  },
  {
   "cell_type": "code",
   "execution_count": 46,
   "outputs": [
    {
     "data": {
      "text/plain": "tensor([9.], dtype=torch.float64, grad_fn=<DivBackward0>)"
     },
     "execution_count": 46,
     "metadata": {},
     "output_type": "execute_result"
    }
   ],
   "source": [
    "result"
   ],
   "metadata": {
    "collapsed": false,
    "ExecuteTime": {
     "end_time": "2023-12-05T20:01:11.346273600Z",
     "start_time": "2023-12-05T20:01:11.327092800Z"
    }
   },
   "id": "75c4bce5427d6173"
  },
  {
   "cell_type": "code",
   "execution_count": 57,
   "outputs": [
    {
     "data": {
      "text/plain": "tensor([0.2000], dtype=torch.float64)"
     },
     "execution_count": 57,
     "metadata": {},
     "output_type": "execute_result"
    }
   ],
   "source": [
    "c.grad"
   ],
   "metadata": {
    "collapsed": false,
    "ExecuteTime": {
     "end_time": "2023-12-05T20:19:16.182276600Z",
     "start_time": "2023-12-05T20:19:16.171274Z"
    }
   },
   "id": "3a1c74ed6c82cc5d"
  },
  {
   "cell_type": "code",
   "execution_count": null,
   "outputs": [],
   "source": [],
   "metadata": {
    "collapsed": false
   },
   "id": "31b0c3f0388d7c70"
  }
 ],
 "metadata": {
  "kernelspec": {
   "display_name": "Python 3",
   "language": "python",
   "name": "python3"
  },
  "language_info": {
   "codemirror_mode": {
    "name": "ipython",
    "version": 2
   },
   "file_extension": ".py",
   "mimetype": "text/x-python",
   "name": "python",
   "nbconvert_exporter": "python",
   "pygments_lexer": "ipython2",
   "version": "2.7.6"
  }
 },
 "nbformat": 4,
 "nbformat_minor": 5
}
